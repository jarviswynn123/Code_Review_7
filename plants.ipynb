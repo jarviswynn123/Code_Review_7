{
 "cells": [
  {
   "cell_type": "code",
   "execution_count": 3,
   "metadata": {},
   "outputs": [
    {
     "name": "stdout",
     "output_type": "stream",
     "text": [
      "successfully created a BigQuery client\n",
      "Project: deb-01-407817\n"
     ]
    }
   ],
   "source": [
    "from google.cloud import bigquery\n",
    "\n",
    "client = bigquery.Client()\n",
    "\n",
    "print(\"successfully created a BigQuery client\")\n",
    "print(f\"Project: {client.project}\")"
   ]
  },
  {
   "cell_type": "code",
   "execution_count": 4,
   "metadata": {},
   "outputs": [
    {
     "name": "stdout",
     "output_type": "stream",
     "text": [
      "dataset id: garys_store\n",
      "dataset id: madden_player_ratings\n",
      "dataset id: mls_salaries\n",
      "dataset id: my_vinyls\n",
      "dataset id: plants\n",
      "dataset id: sf_bikeshare\n",
      "dataset id: streaming_catalog\n"
     ]
    }
   ],
   "source": [
    "for dataset in client.list_datasets():\n",
    "    dataset_id = dataset.dataset_id\n",
    "    print(f\"dataset id: {dataset_id}\")"
   ]
  },
  {
   "cell_type": "code",
   "execution_count": 5,
   "metadata": {},
   "outputs": [
    {
     "name": "stdout",
     "output_type": "stream",
     "text": [
      "table name: flower_shop\n"
     ]
    }
   ],
   "source": [
    "dataset_ref = client.get_dataset(\"plants\")\n",
    "\n",
    "tables = client.list_tables(\"plants\")\n",
    "\n",
    "for table in tables:\n",
    "    print(f\"table name: {table.table_id}\")\n",
    "\n"
   ]
  }
 ],
 "metadata": {
  "kernelspec": {
   "display_name": "venv",
   "language": "python",
   "name": "python3"
  },
  "language_info": {
   "codemirror_mode": {
    "name": "ipython",
    "version": 3
   },
   "file_extension": ".py",
   "mimetype": "text/x-python",
   "name": "python",
   "nbconvert_exporter": "python",
   "pygments_lexer": "ipython3",
   "version": "3.10.12"
  }
 },
 "nbformat": 4,
 "nbformat_minor": 2
}
